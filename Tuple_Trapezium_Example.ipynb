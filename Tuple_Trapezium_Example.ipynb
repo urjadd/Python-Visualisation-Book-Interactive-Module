{
 "cells": [
  {
   "cell_type": "markdown",
   "metadata": {},
   "source": [
    "# # Trapezium shape tuple example"
   ]
  },
  {
   "cell_type": "code",
   "execution_count": 1,
   "metadata": {},
   "outputs": [
    {
     "data": {
      "image/png": "[encoded data removed]",
      "text/plain": [
       "<Figure size 1080x216 with 1 Axes>"
      ]
     },
     "metadata": {
      "needs_background": "light"
     },
     "output_type": "display_data"
    }
   ],
   "source": [
    "#!/usr/bin/env python3\n",
    "# -*- coding: utf-8 -*-\n",
    "\"\"\"\n",
    "Created on Tue Jan  9 22:24:57 2024\n",
    "\n",
    "@author: syedaumaimaminhaj\n",
    "\"\"\"\n",
    "\n",
    "import matplotlib.pyplot as plt\n",
    "import matplotlib.patches as patches\n",
    "\n",
    "# Create a figure and axis\n",
    "fig, ax = plt.subplots(figsize=(15, 3))\n",
    "\n",
    "# Create trapeziums\n",
    "trap1 = patches.Polygon(\n",
    "            [(1, 1), (1.7, 2.2), (3.3, 2.2), (3.8, 1)],\n",
    "            facecolor='None', edgecolor='black', linewidth=5)\n",
    "ax.add_patch(trap1)\n",
    "\n",
    "trap2 = patches.Polygon(\n",
    "            [(4, 1), (4.7, 2.2), (6.3, 2.2), (6.8, 1)],\n",
    "            facecolor='None', edgecolor='black', linewidth=5)\n",
    "ax.add_patch(trap2)\n",
    "\n",
    "trap3 = patches.Polygon(\n",
    "            [(7, 1), (7.7, 2.2), (9.3, 2.2), (9.8, 1)],\n",
    "            facecolor='None', edgecolor='black', linewidth=5)\n",
    "ax.add_patch(trap3)\n",
    "\n",
    "trap4 = patches.Polygon(\n",
    "            [(10, 1), (10.7, 2.2), (12.3, 2.2), (12.8, 1)],\n",
    "            facecolor='None', edgecolor='black', linewidth=5)\n",
    "ax.add_patch(trap4)\n",
    "\n",
    "trap5 = patches.Polygon(\n",
    "            [(13, 1), (13.7, 2.2), (15.3, 2.2), (15.8, 1)],\n",
    "            facecolor='None', edgecolor='black', linewidth=5)\n",
    "ax.add_patch(trap5)\n",
    "\n",
    "# Create connected lines between trapeziums\n",
    "y_l = 1.6\n",
    "ax.plot([3.6, 4.25], [y_l, y_l], color='black', linewidth=4)\n",
    "ax.plot([6.6, 7.25], [y_l, y_l], color='black', linewidth=4)\n",
    "ax.plot([9.6, 10.25], [y_l, y_l], color='black', linewidth=4)\n",
    "ax.plot([12.6, 13.25], [y_l, y_l], color='black', linewidth=4)\n",
    "\n",
    "# Define a function to add shapes to the plot\n",
    "line_length = 0.4\n",
    "arrow = patches.FancyArrow(2.3, 1.2, 0, line_length, head_width=0.3, head_length=0.3, fc='black', ec='black', linewidth=5)\n",
    "ax.add_patch(arrow)\n",
    "\n",
    "circle1 = patches.Circle((5.4, 1.6), radius=0.3, facecolor='black', edgecolor='black', linewidth=8)\n",
    "ax.add_patch(circle1)\n",
    "\n",
    "rhombus1 = patches.Polygon(\n",
    "            [(8.5, 1.3), (8, 1.6), (8.5, 1.9), (9, 1.6)],\n",
    "            facecolor='black', edgecolor='black', linewidth=5)\n",
    "ax.add_patch(rhombus1)\n",
    "\n",
    "circle2 = patches.Circle((11.5, 1.6), radius=0.3, facecolor='black', edgecolor='black', linewidth=8)\n",
    "ax.add_patch(circle2)\n",
    "\n",
    "rhombus2 = patches.Polygon(\n",
    "            [(14.5, 1.3), (14, 1.6), (14.5, 1.9), (15, 1.6)],\n",
    "            facecolor='black', edgecolor='black', linewidth=5)\n",
    "ax.add_patch(rhombus2)\n",
    "\n",
    "\n",
    "# Set the x and y limits\n",
    "ax.set_xlim(0, 20)\n",
    "ax.set_ylim(0, 4)\n",
    "\n",
    "plt.axis(\"off\")\n",
    "# Show the plot\n",
    "plt.show()"
   ]
  },
  {
   "cell_type": "code",
   "execution_count": null,
   "metadata": {},
   "outputs": [],
   "source": []
  }
 ],
 "metadata": {
  "kernelspec": {
   "display_name": "Python 3",
   "language": "python",
   "name": "python3"
  },
  "language_info": {
   "codemirror_mode": {
    "name": "ipython",
    "version": 3
   },
   "file_extension": ".py",
   "mimetype": "text/x-python",
   "name": "python",
   "nbconvert_exporter": "python",
   "pygments_lexer": "ipython3",
   "version": "3.8.3"
  }
 },
 "nbformat": 4,
 "nbformat_minor": 4
}
