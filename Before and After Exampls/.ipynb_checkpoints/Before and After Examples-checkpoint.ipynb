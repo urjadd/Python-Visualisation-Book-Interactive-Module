{
 "cells": [
  {
   "cell_type": "markdown",
   "metadata": {},
   "source": [
    "# Before and After Examples"
   ]
  },
  {
   "cell_type": "markdown",
   "metadata": {},
   "source": [
    "## Example 1 - Strings"
   ]
  },
  {
   "cell_type": "markdown",
   "metadata": {},
   "source": [
    "z = \"abc\" "
   ]
  },
  {
   "cell_type": "markdown",
   "metadata": {},
   "source": [
    "z= \"abc\" +\"d\""
   ]
  },
  {
   "cell_type": "code",
   "execution_count": 5,
   "metadata": {},
   "outputs": [
    {
     "data": {
      "image/png": "[encoded data removed]",
      "text/plain": [
       "<Figure size 1080x432 with 2 Axes>"
      ]
     },
     "metadata": {
      "needs_background": "light"
     },
     "output_type": "display_data"
    }
   ],
   "source": [
    "import matplotlib.pyplot as plt\n",
    "import matplotlib.patches as patches\n",
    "\n",
    "# Create a figure and axes for subplots\n",
    "fig, axs = plt.subplots(2, 1, figsize=(15, 6))  # 2 rows, 1 column\n",
    "\n",
    "# Plot 1: Before\n",
    "# Create circles for plot 1\n",
    "circle1 = patches.Circle((1, 1), radius=0.6, facecolor='black', edgecolor='black', linewidth=8)\n",
    "axs[0].add_patch(circle1)\n",
    "\n",
    "circle2 = patches.Circle((2.9, 1), radius=0.6, facecolor='black', edgecolor='black', linewidth=8)\n",
    "axs[0].add_patch(circle2)\n",
    "\n",
    "# Create connected lines between circles for plot 1\n",
    "y_l = 1\n",
    "axs[0].plot([1.5, 2.3], [y_l, y_l], color='black', linewidth=5)\n",
    "\n",
    "axs[0].set_xlim(0, 20)\n",
    "axs[0].set_ylim(0, 4)\n",
    "axs[0].axis(\"off\")\n",
    "\n",
    "# Plot 2: After\n",
    "# Create circles for plot 2\n",
    "circle1 = patches.Circle((1, 1), radius=0.6, facecolor='black', edgecolor='black', linewidth=8)\n",
    "axs[1].add_patch(circle1)\n",
    "\n",
    "circle2 = patches.Circle((2.9, 1), radius=0.6, facecolor='black', edgecolor='black', linewidth=8)\n",
    "axs[1].add_patch(circle2)\n",
    "\n",
    "circle3 = patches.Circle((5, 1), radius=0.6, facecolor='black', edgecolor='black', linewidth=8)\n",
    "axs[1].add_patch(circle3)\n",
    "\n",
    "# Create connected lines between circles for plot 2\n",
    "axs[1].plot([1.3, 2.5], [y_l - 0.5, y_l - 0.5], color='black', linewidth=5)\n",
    "axs[1].plot([3.3, 4.6], [y_l - 0.5, y_l - 0.5], color='black', linewidth=5)  # Adjusted y-coordinates\n",
    "\n",
    "axs[1].set_xlim(0, 20)\n",
    "axs[1].set_ylim(0, 4)\n",
    "axs[1].axis(\"off\")\n",
    "\n",
    "plt.tight_layout()\n",
    "plt.show()\n"
   ]
  },
  {
   "cell_type": "markdown",
   "metadata": {},
   "source": [
    "## Example 2 - Lists"
   ]
  },
  {
   "cell_type": "markdown",
   "metadata": {},
   "source": [
    "x = [1,2]"
   ]
  },
  {
   "cell_type": "markdown",
   "metadata": {},
   "source": [
    "x.append(3)"
   ]
  },
  {
   "cell_type": "code",
   "execution_count": 12,
   "metadata": {},
   "outputs": [
    {
     "data": {
      "image/png": "[encoded data removed]",
      "text/plain": [
       "<Figure size 1080x216 with 1 Axes>"
      ]
     },
     "metadata": {
      "needs_background": "light"
     },
     "output_type": "display_data"
    },
    {
     "data": {
      "image/png": "[encoded data removed]",
      "text/plain": [
       "<Figure size 1080x216 with 1 Axes>"
      ]
     },
     "metadata": {
      "needs_background": "light"
     },
     "output_type": "display_data"
    }
   ],
   "source": [
    "import matplotlib.pyplot as plt\n",
    "import matplotlib.patches as patches\n",
    "\n",
    "# Create a figure and axis\n",
    "fig, ax = plt.subplots(figsize=(15, 3))\n",
    "\n",
    "# Define the coordinates and dimensions of the rectangle\n",
    "x = 1  # x-coordinate of the lower-left corner\n",
    "y = 1  # y-coordinate of the lower-left corner\n",
    "\n",
    "phi = 1.61803398875  # Golden ratio\n",
    "# Calculate the width and height based on the golden ratio\n",
    "width = 2\n",
    "height = width / phi  # Height is calculated to maintain the golden ratio\n",
    "\n",
    "# Create rectangles\n",
    "rectangle1 = patches.Rectangle((x, y), width, height, linewidth=4, edgecolor='black', facecolor='none')\n",
    "ax.add_patch(rectangle1)\n",
    "\n",
    "rectangle2 = patches.Rectangle((x + 3, y), width, height, linewidth=4, edgecolor='black', facecolor='none')\n",
    "ax.add_patch(rectangle2)\n",
    "\n",
    "\n",
    "# Create connected lines between rectangles\n",
    "y_l = 1.6\n",
    "ax.plot([3, 4], [y_l, y_l], color='black', linewidth=4)\n",
    "\n",
    "# Set the x and y limits\n",
    "ax.set_xlim(0, 20)\n",
    "ax.set_ylim(0, 4)\n",
    "\n",
    "plt.axis(\"off\")\n",
    "plt.show()\n",
    "\n",
    "\n",
    "# Create a figure and axis\n",
    "fig, ax = plt.subplots(figsize=(15, 3))\n",
    "\n",
    "# Define the coordinates and dimensions of the rectangle\n",
    "x = 1  # x-coordinate of the lower-left corner\n",
    "y = 1  # y-coordinate of the lower-left corner\n",
    "\n",
    "phi = 1.61803398875  # Golden ratio\n",
    "# Calculate the width and height based on the golden ratio\n",
    "width = 2\n",
    "height = width / phi  # Height is calculated to maintain the golden ratio\n",
    "\n",
    "# Create rectangles\n",
    "rectangle1 = patches.Rectangle((x, y), width, height, linewidth=4, edgecolor='black', facecolor='none')\n",
    "ax.add_patch(rectangle1)\n",
    "\n",
    "rectangle2 = patches.Rectangle((x + 3, y), width, height, linewidth=4, edgecolor='black', facecolor='none')\n",
    "ax.add_patch(rectangle2)\n",
    "\n",
    "rectangle3 = patches.Rectangle((x + 6, y), width, height, linewidth=4, edgecolor='black', facecolor='none')\n",
    "ax.add_patch(rectangle3)\n",
    "\n",
    "\n",
    "# Create connected lines between rectangles\n",
    "y_l = 1\n",
    "ax.plot([3, 4], [y_l + 0.25, y_l + 0.25], color='black', linewidth=4)\n",
    "ax.plot([6, 7], [y_l + 0.25 , y_l + 0.25], color='black', linewidth=4)\n",
    "\n",
    "\n",
    "# Set the x and y limits\n",
    "ax.set_xlim(0, 20)\n",
    "ax.set_ylim(0, 4)\n",
    "\n",
    "plt.axis(\"off\")\n",
    "plt.show()"
   ]
  },
  {
   "cell_type": "markdown",
   "metadata": {},
   "source": [
    "## Example 3 - Tuples"
   ]
  },
  {
   "cell_type": "markdown",
   "metadata": {},
   "source": [
    "w = (1,2)"
   ]
  },
  {
   "cell_type": "markdown",
   "metadata": {},
   "source": [
    "w = (1,2) + (3)"
   ]
  },
  {
   "cell_type": "code",
   "execution_count": 33,
   "metadata": {},
   "outputs": [
    {
     "data": {
      "image/png": "[encoded data removed]",
      "text/plain": [
       "<Figure size 1080x216 with 1 Axes>"
      ]
     },
     "metadata": {
      "needs_background": "light"
     },
     "output_type": "display_data"
    },
    {
     "data": {
      "image/png": "[encoded data removed]",
      "text/plain": [
       "<Figure size 1080x216 with 1 Axes>"
      ]
     },
     "metadata": {
      "needs_background": "light"
     },
     "output_type": "display_data"
    }
   ],
   "source": [
    "import matplotlib.pyplot as plt\n",
    "import matplotlib.patches as patches\n",
    "\n",
    "# Before\n",
    "# Create a figure and axis\n",
    "fig, ax = plt.subplots(figsize=(15, 3))\n",
    "\n",
    "# Create trapeziums\n",
    "trap1 = patches.Polygon(\n",
    "    [(1, 1), (1.7, 2.2), (3.3, 2.2), (3.8, 1)],\n",
    "    facecolor='None', edgecolor='black', linewidth=5)\n",
    "ax.add_patch(trap1)\n",
    "\n",
    "trap2 = patches.Polygon(\n",
    "    [(4.5, 1), (5.2, 2.2), (6.8, 2.2), (7.3, 1)],\n",
    "    facecolor='None', edgecolor='black', linewidth=5)\n",
    "ax.add_patch(trap2)\n",
    "\n",
    "# Create connected lines between trapeziums\n",
    "y_l = 1.6\n",
    "ax.plot([3.6, 4.8], [y_l, y_l], color='black', linewidth=4)\n",
    "\n",
    "# Set the x and y limits\n",
    "ax.set_xlim(0, 20)\n",
    "ax.set_ylim(0, 4)\n",
    "\n",
    "plt.axis(\"off\")\n",
    "# Show the plot\n",
    "plt.show()\n",
    "\n",
    "# After\n",
    "# Create a figure and axis\n",
    "fig, ax = plt.subplots(figsize=(15, 3))\n",
    "\n",
    "# Golden ratio value\n",
    "phi = (1 + 5**0.5) / 2\n",
    "\n",
    "# Create trapeziums\n",
    "trap1 = patches.Polygon(\n",
    "    [(1, 1), (1.7, 2.2), (3.3, 2.2), (3.8, 1)],\n",
    "    facecolor='None', edgecolor='black', linewidth=5)\n",
    "ax.add_patch(trap1)\n",
    "\n",
    "trap2 = patches.Polygon(\n",
    "    [(4.5, 1), (5.2, 2.2), (6.8, 2.2), (7.3, 1)],\n",
    "    facecolor='None', edgecolor='black', linewidth=5)\n",
    "ax.add_patch(trap2)\n",
    "\n",
    "trap3 = patches.Polygon(\n",
    "    [(8, 1), (8.7, 2.2), (10.3, 2.2), (10.8, 1)],\n",
    "    facecolor='None', edgecolor='black', linewidth=5)\n",
    "ax.add_patch(trap3)\n",
    "\n",
    "# Create connected lines between trapeziums\n",
    "y_l = 1\n",
    "ax.plot([3.7, 4.6], [y_l + 0.25, y_l + 0.25], color='black', linewidth=4)\n",
    "ax.plot([7.3, 8.1], [y_l + 0.25, y_l + 0.25], color='black', linewidth=4)\n",
    "\n",
    "# Adjust heights using golden ratio\n",
    "trap1_height = 2.2\n",
    "trap2_height = trap1_height * phi\n",
    "trap3_height = trap2_height * phi\n",
    "\n",
    "# Update trapezium vertices for the golden ratio\n",
    "trap2.set_xy(trap2.get_xy())\n",
    "trap3.set_xy(trap3.get_xy())\n",
    "\n",
    "# Update trapezium patches\n",
    "trap2.set_xy(trap2.get_xy())\n",
    "trap3.set_xy(trap3.get_xy())\n",
    "\n",
    "# Set the x and y limits\n",
    "ax.set_xlim(0, 20)\n",
    "ax.set_ylim(0, 4)\n",
    "\n",
    "plt.axis(\"off\")\n",
    "# Show the plot\n",
    "plt.show()\n",
    "\n"
   ]
  },
  {
   "cell_type": "markdown",
   "metadata": {},
   "source": [
    "## Example 4"
   ]
  },
  {
   "cell_type": "markdown",
   "metadata": {},
   "source": []
  },
  {
   "cell_type": "code",
   "execution_count": 16,
   "metadata": {},
   "outputs": [
    {
     "data": {
      "image/png": "[encoded data removed]",
      "text/plain": [
       "<Figure size 1080x216 with 1 Axes>"
      ]
     },
     "metadata": {
      "needs_background": "light"
     },
     "output_type": "display_data"
    },
    {
     "data": {
      "image/png": "[encoded data removed]",
      "text/plain": [
       "<Figure size 1080x216 with 1 Axes>"
      ]
     },
     "metadata": {
      "needs_background": "light"
     },
     "output_type": "display_data"
    }
   ],
   "source": [
    "import matplotlib.pyplot as plt\n",
    "import matplotlib.patches as patches\n",
    "\n",
    "# Create a figure and axis\n",
    "fig, ax = plt.subplots(figsize=(15, 3))\n",
    "\n",
    "# Define the coordinates and dimensions of the rectangle\n",
    "x = 1  # x-coordinate of the lower-left corner\n",
    "y = 1  # y-coordinate of the lower-left corner\n",
    "\n",
    "phi = 1.61803398875  # Golden ratio\n",
    "# Calculate the width and height based on the golden ratio\n",
    "width = 2\n",
    "height = width / phi  # Height is calculated to maintain the golden ratio\n",
    "\n",
    "# Create rectangles\n",
    "rectangle1 = patches.Rectangle((x, y), width, height, linewidth=4, edgecolor='black', facecolor='none')\n",
    "ax.add_patch(rectangle1)\n",
    "\n",
    "rectangle2 = patches.Rectangle((x + 3, y), width, height, linewidth=4, edgecolor='black', facecolor='none')\n",
    "ax.add_patch(rectangle2)\n",
    "\n",
    "\n",
    "# Create connected lines between rectangles\n",
    "y_l = 1.6\n",
    "ax.plot([3, 4], [y_l, y_l], color='black', linewidth=4)\n",
    "\n",
    "\n",
    "# Define a function to add shapes to the plot\n",
    "rhombus1 = patches.Polygon(\n",
    "    [(2, 1.3), (1.5, 1.6), (2, 1.9), (2.5, 1.6)],\n",
    "    facecolor='black', edgecolor='black', linewidth=5)\n",
    "ax.add_patch(rhombus1)\n",
    "\n",
    "rhombus2 = patches.Polygon(\n",
    "            [(5, 1.3), (4.5, 1.6), (5, 1.9), (5.5, 1.6)],\n",
    "            facecolor='black', edgecolor='black', linewidth=5)\n",
    "ax.add_patch(rhombus2)\n",
    "\n",
    "\n",
    "# Set the x and y limits\n",
    "ax.set_xlim(0, 20)\n",
    "ax.set_ylim(0, 4)\n",
    "\n",
    "# List of shapes to add\n",
    "shapes = [1,2,3]\n",
    "plt.axis(\"off\")\n",
    "#plt.axis(\"scaled\")\n",
    "# Show the plot\n",
    "plt.show()\n",
    "\n",
    "\n",
    "import matplotlib.pyplot as plt\n",
    "import matplotlib.patches as patches\n",
    "\n",
    "# Create a figure and axis\n",
    "fig, ax = plt.subplots(figsize=(15, 3))\n",
    "\n",
    "# Define the coordinates and dimensions of the rectangle\n",
    "x = 1  # x-coordinate of the lower-left corner\n",
    "y = 1  # y-coordinate of the lower-left corner\n",
    "\n",
    "phi = 1.61803398875  # Golden ratio\n",
    "# Calculate the width and height based on the golden ratio\n",
    "width = 2\n",
    "height = width / phi  # Height is calculated to maintain the golden ratio\n",
    "\n",
    "# Create rectangles\n",
    "rectangle1 = patches.Rectangle((x, y), width, height, linewidth=4, edgecolor='black', facecolor='none')\n",
    "ax.add_patch(rectangle1)\n",
    "\n",
    "rectangle2 = patches.Rectangle((x + 3, y), width, height, linewidth=4, edgecolor='black', facecolor='none')\n",
    "ax.add_patch(rectangle2)\n",
    "\n",
    "rectangle3 = patches.Rectangle((x + 6, y), width, height, linewidth=4, edgecolor='black', facecolor='none')\n",
    "ax.add_patch(rectangle3)\n",
    "\n",
    "\n",
    "# Create connected lines between rectangles\n",
    "y_l = 1.2\n",
    "ax.plot([3, 4], [y_l, y_l], color='black', linewidth=4)\n",
    "ax.plot([6, 7], [y_l, y_l], color='black', linewidth=4)\n",
    "\n",
    "# Define a function to add shapes to the plot\n",
    "rhombus1 = patches.Polygon(\n",
    "    [(2, 1.3), (1.5, 1.6), (2, 1.9), (2.5, 1.6)],\n",
    "    facecolor='black', edgecolor='black', linewidth=5)\n",
    "ax.add_patch(rhombus1)\n",
    "\n",
    "rhombus2 = patches.Polygon(\n",
    "            [(5, 1.3), (4.5, 1.6), (5, 1.9), (5.5, 1.6)],\n",
    "            facecolor='black', edgecolor='black', linewidth=5)\n",
    "ax.add_patch(rhombus2)\n",
    "\n",
    "rhombus3 = patches.Polygon(\n",
    "            [(8, 1.3), (7.5, 1.6), (8, 1.9), (8.5, 1.6)],\n",
    "            facecolor='black', edgecolor='black', linewidth=5)\n",
    "ax.add_patch(rhombus3)\n",
    "\n",
    "# Set the x and y limits\n",
    "ax.set_xlim(0, 20)\n",
    "ax.set_ylim(0, 4)\n",
    "\n",
    "# List of shapes to add\n",
    "shapes = [1,2,3]\n",
    "plt.axis(\"off\")\n",
    "#plt.axis(\"scaled\")\n",
    "# Show the plot\n",
    "plt.show()"
   ]
  },
  {
   "cell_type": "code",
   "execution_count": 33,
   "metadata": {},
   "outputs": [
    {
     "data": {
      "image/png": "[encoded data removed]",
      "text/plain": [
       "<Figure size 1080x216 with 1 Axes>"
      ]
     },
     "metadata": {
      "needs_background": "light"
     },
     "output_type": "display_data"
    },
    {
     "data": {
      "image/png": "[encoded data removed]",
      "text/plain": [
       "<Figure size 1080x216 with 1 Axes>"
      ]
     },
     "metadata": {
      "needs_background": "light"
     },
     "output_type": "display_data"
    }
   ],
   "source": [
    "import matplotlib.pyplot as plt\n",
    "import matplotlib.patches as patches\n",
    "\n",
    "# Create a figure and axis\n",
    "fig, ax = plt.subplots(figsize=(15, 3))\n",
    "\n",
    "# Define the coordinates and dimensions of the rectangle\n",
    "x = 1  # x-coordinate of the lower-left corner\n",
    "y = 1  # y-coordinate of the lower-left corner\n",
    "\n",
    "phi = 1.61803398875  # Golden ratio\n",
    "# Calculate the width and height based on the golden ratio\n",
    "width = 2\n",
    "height = width / phi  # Height is calculated to maintain the golden ratio\n",
    "\n",
    "# Create rectangles\n",
    "trap1 = patches.Polygon(\n",
    "    [(1, 1), (1.7, 2.2), (3.3, 2.2), (3.8, 1)],\n",
    "    facecolor='None', edgecolor='black', linewidth=5)\n",
    "ax.add_patch(trap1)\n",
    "\n",
    "trap2 = patches.Polygon(\n",
    "    [(4.5, 1), (5.2, 2.2), (6.8, 2.2), (7.3, 1)],\n",
    "    facecolor='None', edgecolor='black', linewidth=5)\n",
    "ax.add_patch(trap2)\n",
    "\n",
    "\n",
    "# Create connected lines between rectangles\n",
    "y_l = 1.6\n",
    "ax.plot([3.6, 4.8], [y_l, y_l], color='black', linewidth=4)\n",
    "\n",
    "\n",
    "# Define a function to add shapes to the plot\n",
    "rhombus1 = patches.Polygon(\n",
    "    [(2.5, 1.3), (2, 1.6), (2.5, 1.9), (3, 1.6)],\n",
    "    facecolor='black', edgecolor='black', linewidth=5)\n",
    "ax.add_patch(rhombus1)\n",
    "\n",
    "rhombus2 = patches.Polygon(\n",
    "            [(6, 1.3), (5.5, 1.6), (6, 1.9), (6.5, 1.6)],\n",
    "            facecolor='black', edgecolor='black', linewidth=5)\n",
    "ax.add_patch(rhombus2)\n",
    "\n",
    "\n",
    "# Set the x and y limits\n",
    "ax.set_xlim(0, 20)\n",
    "ax.set_ylim(0, 4)\n",
    "\n",
    "# List of shapes to add\n",
    "shapes = [1,2,3]\n",
    "plt.axis(\"off\")\n",
    "#plt.axis(\"scaled\")\n",
    "# Show the plot\n",
    "plt.show()\n",
    "\n",
    "\n",
    "import matplotlib.pyplot as plt\n",
    "import matplotlib.patches as patches\n",
    "\n",
    "# Create a figure and axis\n",
    "fig, ax = plt.subplots(figsize=(15, 3))\n",
    "\n",
    "# Define the coordinates and dimensions of the rectangle\n",
    "x = 1  # x-coordinate of the lower-left corner\n",
    "y = 1  # y-coordinate of the lower-left corner\n",
    "\n",
    "phi = 1.61803398875  # Golden ratio\n",
    "# Calculate the width and height based on the golden ratio\n",
    "width = 2\n",
    "height = width / phi  # Height is calculated to maintain the golden ratio\n",
    "\n",
    "# Create rectangles\n",
    "trap1 = patches.Polygon(\n",
    "    [(1, 1), (1.7, 2.2), (3.3, 2.2), (3.8, 1)],\n",
    "    facecolor='None', edgecolor='black', linewidth=5)\n",
    "ax.add_patch(trap1)\n",
    "\n",
    "trap2 = patches.Polygon(\n",
    "    [(4.5, 1), (5.2, 2.2), (6.8, 2.2), (7.3, 1)],\n",
    "    facecolor='None', edgecolor='black', linewidth=5)\n",
    "ax.add_patch(trap2)\n",
    "\n",
    "trap3 = patches.Polygon(\n",
    "    [(8, 1), (8.7, 2.2), (10.3, 2.2), (10.8, 1)],\n",
    "    facecolor='None', edgecolor='black', linewidth=5)\n",
    "ax.add_patch(trap3)\n",
    "\n",
    "\n",
    "# Create connected lines between rectangles\n",
    "y_l = 1.2\n",
    "ax.plot([3.7, 4.5], [y_l, y_l], color='black', linewidth=4)\n",
    "ax.plot([7.2, 8.1], [y_l, y_l], color='black', linewidth=4)\n",
    "\n",
    "# Define a function to add shapes to the plot\n",
    "rhombus1 = patches.Polygon(\n",
    "    [(2.5, 1.3), (2, 1.6), (2.5, 1.9), (3, 1.6)],\n",
    "    facecolor='black', edgecolor='black', linewidth=5)\n",
    "ax.add_patch(rhombus1)\n",
    "\n",
    "rhombus2 = patches.Polygon(\n",
    "            [(6, 1.3), (5.5, 1.6), (6, 1.9), (6.5, 1.6)],\n",
    "            facecolor='black', edgecolor='black', linewidth=5)\n",
    "ax.add_patch(rhombus2)\n",
    "\n",
    "rhombus3 = patches.Polygon(\n",
    "            [(9.5, 1.3), (9, 1.6), (9.5, 1.9), (10, 1.6)],\n",
    "            facecolor='black', edgecolor='black', linewidth=5)\n",
    "ax.add_patch(rhombus3)\n",
    "\n",
    "# Set the x and y limits\n",
    "ax.set_xlim(0, 20)\n",
    "ax.set_ylim(0, 4)\n",
    "\n",
    "# List of shapes to add\n",
    "shapes = [1,2,3]\n",
    "plt.axis(\"off\")\n",
    "#plt.axis(\"scaled\")\n",
    "# Show the plot\n",
    "plt.show()"
   ]
  },
  {
   "cell_type": "code",
   "execution_count": null,
   "metadata": {},
   "outputs": [],
   "source": []
  }
 ],
 "metadata": {
  "kernelspec": {
   "display_name": "Python 3",
   "language": "python",
   "name": "python3"
  },
  "language_info": {
   "codemirror_mode": {
    "name": "ipython",
    "version": 3
   },
   "file_extension": ".py",
   "mimetype": "text/x-python",
   "name": "python",
   "nbconvert_exporter": "python",
   "pygments_lexer": "ipython3",
   "version": "3.8.3"
  }
 },
 "nbformat": 4,
 "nbformat_minor": 4
}
