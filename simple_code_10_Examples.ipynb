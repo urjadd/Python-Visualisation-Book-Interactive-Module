{
 "cells": [
  {
   "cell_type": "markdown",
   "metadata": {},
   "source": [
    "# Example 1: Visualizing a Simple List with Different Data Types¶\n",
    "Objective: Understand how different basic data types (integer, string, boolean) are represented in a list.\n",
    "Problem: Create a list with three elements: an integer, a string, and a boolean value. Visualize this list.\n",
    "\n",
    "simple_list = [{1, 2}, \"A\", 4.5, True]"
   ]
  },
  {
   "cell_type": "code",
   "execution_count": 117,
   "metadata": {},
   "outputs": [
    {
     "data": {
      "image/png": "[encoded data removed]",
      "text/plain": [
       "<Figure size 1500x300 with 1 Axes>"
      ]
     },
     "metadata": {},
     "output_type": "display_data"
    }
   ],
   "source": [
    "import matplotlib.pyplot as plt\n",
    "import matplotlib.patches as patches\n",
    "\n",
    "# Create a figure and axis\n",
    "fig, ax = plt.subplots(figsize=(15, 3))\n",
    "\n",
    "# Define the coordinates and dimensions of the rectangle\n",
    "x = 1  # x-coordinate of the lower-left corner\n",
    "y = 1  # y-coordinate of the lower-left corner\n",
    "\n",
    "phi = 1.61803398875  # Golden ratio\n",
    "# Calculate the width and height based on the golden ratio\n",
    "width = 2\n",
    "height = width / phi  # Height is calculated to maintain the golden ratio\n",
    "\n",
    "# Create rectangles\n",
    "rectangle1 = patches.Rectangle((x, y), width, height, linewidth=4, edgecolor='black', facecolor='none')\n",
    "ax.add_patch(rectangle1)\n",
    "\n",
    "rectangle2 = patches.Rectangle((x + 3, y), width, height, linewidth=4, edgecolor='black', facecolor='none')\n",
    "ax.add_patch(rectangle2)\n",
    "\n",
    "rectangle3 = patches.Rectangle((x + 6, y), width, height, linewidth=4, edgecolor='black', facecolor='none')\n",
    "ax.add_patch(rectangle3)\n",
    "\n",
    "rectangle4 = patches.Rectangle((x + 9, y), width, height, linewidth=4, edgecolor='black', facecolor='none')\n",
    "ax.add_patch(rectangle4)\n",
    "\n",
    "# Create connected lines between rectangles\n",
    "y_l = 1.6\n",
    "ax.plot([3, 4], [y_l, y_l], color='black', linewidth=4)\n",
    "ax.plot([6, 7], [y_l, y_l], color='black', linewidth=4)\n",
    "ax.plot([9, 10], [y_l, y_l], color='black', linewidth=4)\n",
    "\n",
    "# Define a function to add shapes to the plot\n",
    "\n",
    "triangle = patches.Polygon(\n",
    "        [(1.3, 1.2), (2, 2), (2.7, 1.2)],\n",
    "            facecolor='none', edgecolor='black', linewidth=4)\n",
    "ax.add_patch(triangle)\n",
    "\n",
    "circle = patches.Circle((5, 1.6), radius=0.3, facecolor='black', edgecolor='black', linewidth=8)\n",
    "ax.add_patch(circle)\n",
    "\n",
    "rhombus = patches.Polygon(\n",
    "            [(8, 1.3), (7.5, 1.6), (8, 1.9), (8.5, 1.6)],\n",
    "            facecolor='black', edgecolor='black', linewidth=5)\n",
    "ax.add_patch(rhombus)\n",
    "\n",
    "line_length = 0.4\n",
    "arrow = patches.FancyArrow(11, 1.25, 0, line_length, head_width=0.3, head_length=0.3, fc='black', ec='black', linewidth=5)\n",
    "ax.add_patch(arrow)\n",
    "\n",
    "# Set the x and y limits\n",
    "ax.set_xlim(0, 20)\n",
    "ax.set_ylim(0, 4)\n",
    "\n",
    "# List of shapes to add\n",
    "#shapes = [{1, 2}, \"A\", 4.5, True]\n",
    "    \n",
    "plt.axis(\"off\")\n",
    "#plt.axis(\"scaled\")\n",
    "# Show the plot\n",
    "plt.show()"
   ]
  },
  {
   "cell_type": "markdown",
   "metadata": {},
   "source": [
    "# Example 2: Visualizing a List of Integers\n",
    "Objective: Learn to visualize a list containing multiple elements of the same type.\n",
    "Problem: Create a list of integers [1, 2, 3] and visualize it.\n",
    "\n",
    "integer_list = [1, 2, 3]"
   ]
  },
  {
   "cell_type": "code",
   "execution_count": 118,
   "metadata": {},
   "outputs": [
    {
     "data": {
      "image/png": "[encoded data removed]",
      "text/plain": [
       "<Figure size 1500x300 with 1 Axes>"
      ]
     },
     "metadata": {},
     "output_type": "display_data"
    }
   ],
   "source": [
    "import matplotlib.pyplot as plt\n",
    "import matplotlib.patches as patches\n",
    "\n",
    "# Create a figure and axis\n",
    "fig, ax = plt.subplots(figsize=(15, 3))\n",
    "\n",
    "# Define the coordinates and dimensions of the rectangle\n",
    "x = 1  # x-coordinate of the lower-left corner\n",
    "y = 1  # y-coordinate of the lower-left corner\n",
    "\n",
    "phi = 1.61803398875  # Golden ratio\n",
    "# Calculate the width and height based on the golden ratio\n",
    "width = 2\n",
    "height = width / phi  # Height is calculated to maintain the golden ratio\n",
    "\n",
    "# Create rectangles\n",
    "rectangle1 = patches.Rectangle((x, y), width, height, linewidth=4, edgecolor='black', facecolor='none')\n",
    "ax.add_patch(rectangle1)\n",
    "\n",
    "rectangle2 = patches.Rectangle((x + 3, y), width, height, linewidth=4, edgecolor='black', facecolor='none')\n",
    "ax.add_patch(rectangle2)\n",
    "\n",
    "rectangle3 = patches.Rectangle((x + 6, y), width, height, linewidth=4, edgecolor='black', facecolor='none')\n",
    "ax.add_patch(rectangle3)\n",
    "\n",
    "\n",
    "# Create connected lines between rectangles\n",
    "y_l = 1.6\n",
    "ax.plot([3, 4], [y_l, y_l], color='black', linewidth=4)\n",
    "ax.plot([6, 7], [y_l, y_l], color='black', linewidth=4)\n",
    "\n",
    "# Define a function to add shapes to the plot\n",
    "rhombus1 = patches.Polygon(\n",
    "    [(2, 1.3), (1.5, 1.6), (2, 1.9), (2.5, 1.6)],\n",
    "    facecolor='black', edgecolor='black', linewidth=5)\n",
    "ax.add_patch(rhombus1)\n",
    "\n",
    "rhombus2 = patches.Polygon(\n",
    "            [(5, 1.3), (4.5, 1.6), (5, 1.9), (5.5, 1.6)],\n",
    "            facecolor='black', edgecolor='black', linewidth=5)\n",
    "ax.add_patch(rhombus2)\n",
    "\n",
    "rhombus3 = patches.Polygon(\n",
    "            [(8, 1.3), (7.5, 1.6), (8, 1.9), (8.5, 1.6)],\n",
    "            facecolor='black', edgecolor='black', linewidth=5)\n",
    "ax.add_patch(rhombus3)\n",
    "\n",
    "# Set the x and y limits\n",
    "ax.set_xlim(0, 20)\n",
    "ax.set_ylim(0, 4)\n",
    "\n",
    "# List of shapes to add\n",
    "shapes = [1,2,3]\n",
    "plt.axis(\"off\")\n",
    "#plt.axis(\"scaled\")\n",
    "# Show the plot\n",
    "plt.show()\n"
   ]
  },
  {
   "cell_type": "markdown",
   "metadata": {},
   "source": [
    "# Example 3: Visualizing Nested Lists\n",
    "Objective: Understand how to represent nested lists.\n",
    "Problem: Create a list where each element is a nested list with various data types. For example, [[1, \"A\"], [True, set(), 3.14]].\n",
    "\n",
    "\n",
    "nested_list = [[1, \"A\"], [True, set(), 3.14]]\n"
   ]
  },
  {
   "cell_type": "code",
   "execution_count": 119,
   "metadata": {},
   "outputs": [
    {
     "data": {
      "image/png": "[encoded data removed]",
      "text/plain": [
       "<Figure size 1500x300 with 1 Axes>"
      ]
     },
     "metadata": {},
     "output_type": "display_data"
    }
   ],
   "source": [
    "import matplotlib.pyplot as plt\n",
    "import matplotlib.patches as patches\n",
    "\n",
    "# Create a figure and axis\n",
    "fig, ax = plt.subplots(figsize=(15, 3))\n",
    "\n",
    "# Define the coordinates and dimensions of the rectangle\n",
    "x = 1  # x-coordinate of the lower-left corner\n",
    "y = 1  # y-coordinate of the lower-left corner\n",
    "\n",
    "phi = 1.61803398875  # Golden ratio\n",
    "# Calculate the width and height based on the golden ratio\n",
    "width = 2\n",
    "height = width / phi  # Height is calculated to maintain the golden ratio\n",
    "\n",
    "# Create rectangles\n",
    "rectangle1 = patches.Rectangle((x, y), width, height, linewidth=4, edgecolor='black', facecolor='none')\n",
    "ax.add_patch(rectangle1)\n",
    "\n",
    "rectangle2 = patches.Rectangle((x + 3, y), width, height, linewidth=4, edgecolor='black', facecolor='none')\n",
    "ax.add_patch(rectangle2)\n",
    "\n",
    "# Create connected lines between rectangles\n",
    "y_l = 1.6\n",
    "ax.plot([3, 4], [y_l, y_l], color='black', linewidth=4)\n",
    "\n",
    "# Define a function to add shapes to the plot\n",
    "#1-nested list\n",
    "rectangle1_1 = patches.Rectangle((x+0.2, y+0.4), width/3, height/3, linewidth=4, edgecolor='black', facecolor='none')\n",
    "ax.add_patch(rectangle1_1)\n",
    "rectangle2_1 = patches.Rectangle((x+width/3+0.2+0.3, y+0.4), width/3, height/3, linewidth=4, edgecolor='black', facecolor='none')\n",
    "ax.add_patch(rectangle2_1)\n",
    "y_l = 1.6\n",
    "ax.plot([x+width/3+0.3, x+width/3+0.2+0.3], [y_l, y_l], color='black', linewidth=4)\n",
    "\n",
    "#2-nested list\n",
    "rectangle1_2 = patches.Rectangle((x+width+1+0.2, y+0.4), width/3, height/3, linewidth=4, edgecolor='black', facecolor='none')\n",
    "ax.add_patch(rectangle1_2)\n",
    "rectangle2_2 = patches.Rectangle((x+width+width/3+1+0.2+0.3, y+0.4), width/3, height/3, linewidth=4, edgecolor='black', facecolor='none')\n",
    "ax.add_patch(rectangle2_2)\n",
    "y_l = 1.6\n",
    "ax.plot([x+width+1+0.2+width/3, x+width+1+width/3+0.2+0.3], [y_l, y_l], color='black', linewidth=4)\n",
    "\n",
    "# Set the x and y limits\n",
    "ax.set_xlim(0, 20)\n",
    "ax.set_ylim(0, 4)\n",
    "\n",
    "# List of shapes to add\n",
    "shapes = [1,2,3]\n",
    "plt.axis(\"off\")\n",
    "#plt.axis(\"scaled\")\n",
    "# Show the plot\n",
    "plt.show()\n"
   ]
  },
  {
   "cell_type": "markdown",
   "metadata": {},
   "source": [
    "# Example 4: Visualizing Lists with Conditional Logic¶\n",
    "Objective: Learn to visualize lists that represent the outcomes of conditional logic.\n",
    "Problem: Represent a list of boolean expressions, like [1 > 2, \"A\" == \"B\", 3 <= 3].\n",
    "\n",
    "\n",
    "conditional_list = [1 > 2, \"A\" == \"B\", 3 <= 3]\n"
   ]
  },
  {
   "cell_type": "code",
   "execution_count": 120,
   "metadata": {},
   "outputs": [
    {
     "data": {
      "image/png": "[encoded data removed]",
      "text/plain": [
       "<Figure size 1500x300 with 1 Axes>"
      ]
     },
     "metadata": {},
     "output_type": "display_data"
    }
   ],
   "source": [
    "import matplotlib.pyplot as plt\n",
    "import matplotlib.patches as patches\n",
    "\n",
    "# Create a figure and axis\n",
    "fig, ax = plt.subplots(figsize=(15, 3))\n",
    "\n",
    "# Define the coordinates and dimensions of the rectangle\n",
    "x = 1  # x-coordinate of the lower-left corner\n",
    "y = 1  # y-coordinate of the lower-left corner\n",
    "\n",
    "phi = 1.61803398875  # Golden ratio\n",
    "# Calculate the width and height based on the golden ratio\n",
    "width = 2\n",
    "height = width / phi  # Height is calculated to maintain the golden ratio\n",
    "\n",
    "# Create rectangles\n",
    "rectangle1 = patches.Rectangle((x, y), width, height, linewidth=4, edgecolor='black', facecolor='none')\n",
    "ax.add_patch(rectangle1)\n",
    "\n",
    "rectangle2 = patches.Rectangle((x + 3, y), width, height, linewidth=4, edgecolor='black', facecolor='none')\n",
    "ax.add_patch(rectangle2)\n",
    "\n",
    "rectangle3 = patches.Rectangle((x + 6, y), width, height, linewidth=4, edgecolor='black', facecolor='none')\n",
    "ax.add_patch(rectangle3)\n",
    "\n",
    "\n",
    "# Create connected lines between rectangles\n",
    "y_l = 1.6\n",
    "ax.plot([3, 4], [y_l, y_l], color='black', linewidth=4)\n",
    "ax.plot([6, 7], [y_l, y_l], color='black', linewidth=4)\n",
    "\n",
    "# Define a function to add shapes to the plot\n",
    "\n",
    "line_length = 0.4\n",
    "#1        \n",
    "arrow1 = patches.FancyArrow(2.05, 2, 0, -line_length, head_width=0.3, head_length=0.3, fc='black', ec='black', linewidth=5)\n",
    "ax.add_patch(arrow1)\n",
    "\n",
    "#2\n",
    "arrow2 = patches.FancyArrow(5, 2, 0, -line_length, head_width=0.3, head_length=0.3, fc='black', ec='black', linewidth=5)\n",
    "ax.add_patch(arrow2)\n",
    "\n",
    "#3\n",
    "arrow3 = patches.FancyArrow(8, 1.25, 0, line_length, head_width=0.3, head_length=0.3, fc='black', ec='black', linewidth=5)\n",
    "ax.add_patch(arrow3)\n",
    "\n",
    "# Set the x and y limits\n",
    "ax.set_xlim(0, 20)\n",
    "ax.set_ylim(0, 4)\n",
    "\n",
    "\n",
    "plt.axis(\"off\")\n",
    "plt.show()"
   ]
  },
  {
   "cell_type": "markdown",
   "metadata": {},
   "source": [
    "# Example 5: Visualizing append Operation on a List¶\n",
    "Objective: Learn how the append operation adds an element to a specified position in a list (or the last element by default) and visualize this change.\n",
    "Problem: Start with a list, e.g., [True, 3.14, \"B\", 2], and then append an element to it (e.g., the second element). Visualize the list before and after the append operation.\n",
    "\n",
    "# Initial list\n",
    "initial_list = [1, \"A\"]"
   ]
  },
  {
   "cell_type": "code",
   "execution_count": 121,
   "metadata": {},
   "outputs": [
    {
     "data": {
      "image/png": "[encoded data removed]",
      "text/plain": [
       "<Figure size 1500x300 with 1 Axes>"
      ]
     },
     "metadata": {},
     "output_type": "display_data"
    }
   ],
   "source": [
    "import matplotlib.pyplot as plt\n",
    "import matplotlib.patches as patches\n",
    "\n",
    "# Create a figure and axis\n",
    "fig, ax = plt.subplots(figsize=(15, 3))\n",
    "\n",
    "# Define the coordinates and dimensions of the rectangle\n",
    "x = 1  # x-coordinate of the lower-left corner\n",
    "y = 1  # y-coordinate of the lower-left corner\n",
    "\n",
    "phi = 1.61803398875  # Golden ratio\n",
    "# Calculate the width and height based on the golden ratio\n",
    "width = 2\n",
    "height = width / phi  # Height is calculated to maintain the golden ratio\n",
    "\n",
    "# Create rectangles\n",
    "rectangle1 = patches.Rectangle((x, y), width, height, linewidth=4, edgecolor='black', facecolor='none')\n",
    "ax.add_patch(rectangle1)\n",
    "\n",
    "rectangle2 = patches.Rectangle((x + 3, y), width, height, linewidth=4, edgecolor='black', facecolor='none')\n",
    "ax.add_patch(rectangle2)\n",
    "\n",
    "\n",
    "# Create connected lines between rectangles\n",
    "y_l = 1.6\n",
    "ax.plot([3, 4], [y_l, y_l], color='black', linewidth=4)\n",
    "\n",
    "# Define a function to add shapes to the plot\n",
    "rhombus1 = patches.Polygon(\n",
    "    [(2, 1.3), (1.5, 1.6), (2, 1.9), (2.5, 1.6)],\n",
    "    facecolor='black', edgecolor='black', linewidth=5)\n",
    "ax.add_patch(rhombus1)\n",
    "\n",
    "circle = patches.Circle((5, 1.6), radius=0.3, facecolor='black', edgecolor='black', linewidth=8)\n",
    "ax.add_patch(circle)\n",
    "\n",
    "# Set the x and y limits\n",
    "ax.set_xlim(0, 20)\n",
    "ax.set_ylim(0, 4)\n",
    "\n",
    "plt.axis(\"off\")\n",
    "\n",
    "plt.show()\n"
   ]
  },
  {
   "cell_type": "markdown",
   "metadata": {},
   "source": [
    "# Append a boolean value\n",
    "initial_list.append(True)"
   ]
  },
  {
   "cell_type": "code",
   "execution_count": 122,
   "metadata": {},
   "outputs": [
    {
     "data": {
      "image/png": "[encoded data removed]",
      "text/plain": [
       "<Figure size 1500x300 with 1 Axes>"
      ]
     },
     "metadata": {},
     "output_type": "display_data"
    }
   ],
   "source": [
    "import matplotlib.pyplot as plt\n",
    "import matplotlib.patches as patches\n",
    "\n",
    "# Create a figure and axis\n",
    "fig, ax = plt.subplots(figsize=(15, 3))\n",
    "\n",
    "# Define the coordinates and dimensions of the rectangle\n",
    "x = 1  # x-coordinate of the lower-left corner\n",
    "y = 1  # y-coordinate of the lower-left corner\n",
    "\n",
    "phi = 1.61803398875  # Golden ratio\n",
    "# Calculate the width and height based on the golden ratio\n",
    "width = 2\n",
    "height = width / phi  # Height is calculated to maintain the golden ratio\n",
    "\n",
    "# Create rectangles\n",
    "rectangle1 = patches.Rectangle((x, y), width, height, linewidth=4, edgecolor='black', facecolor='none')\n",
    "ax.add_patch(rectangle1)\n",
    "\n",
    "rectangle2 = patches.Rectangle((x + 3, y), width, height, linewidth=4, edgecolor='black', facecolor='none')\n",
    "ax.add_patch(rectangle2)\n",
    "\n",
    "rectangle3 = patches.Rectangle((x + 6, y), width, height, linewidth=4, edgecolor='black', facecolor='none')\n",
    "ax.add_patch(rectangle3)\n",
    "\n",
    "\n",
    "# Create connected lines between rectangles\n",
    "y_l = 1.6\n",
    "ax.plot([3, 4], [y_l, y_l], color='black', linewidth=4)\n",
    "ax.plot([6, 7], [y_l, y_l], color='black', linewidth=4)\n",
    "\n",
    "# Define a function to add shapes to the plot\n",
    "rhombus1 = patches.Polygon(\n",
    "    [(2, 1.3), (1.5, 1.6), (2, 1.9), (2.5, 1.6)],\n",
    "    facecolor='black', edgecolor='black', linewidth=5)\n",
    "ax.add_patch(rhombus1)\n",
    "\n",
    "circle = patches.Circle((5, 1.6), radius=0.3, facecolor='black', edgecolor='black', linewidth=8)\n",
    "ax.add_patch(circle)\n",
    "\n",
    "line_length = 0.4\n",
    "arrow3 = patches.FancyArrow(8, 1.25, 0, line_length, head_width=0.3, head_length=0.3, fc='black', ec='black', linewidth=5)\n",
    "ax.add_patch(arrow3)\n",
    "\n",
    "# Set the x and y limits\n",
    "ax.set_xlim(0, 20)\n",
    "ax.set_ylim(0, 4)\n",
    "\n",
    "plt.axis(\"off\")\n",
    "# Show the plot\n",
    "plt.show()\n"
   ]
  },
  {
   "cell_type": "markdown",
   "metadata": {},
   "source": [
    "# Example 6: Visualizing pop Operation on a List¶\n",
    "Objective: Learn how the pop operation removes an element from a specified position in a list (or the last element by default) and visualize this change.\n",
    "Problem: Start with a list, e.g., [True, 3.14, \"B\", 2], and then pop an element from it (e.g., the second element). Visualize the list before and after the pop operation.\n",
    "\n",
    "# Initial list\n",
    "initial_list = [True, 3.14, \"B\", 2]\n",
    "\n",
    "\n",
    "\n"
   ]
  },
  {
   "cell_type": "code",
   "execution_count": 123,
   "metadata": {},
   "outputs": [
    {
     "data": {
      "image/png": "[encoded data removed]",
      "text/plain": [
       "<Figure size 1500x300 with 1 Axes>"
      ]
     },
     "metadata": {},
     "output_type": "display_data"
    }
   ],
   "source": [
    "import matplotlib.pyplot as plt\n",
    "import matplotlib.patches as patches\n",
    "\n",
    "# Create a figure and axis\n",
    "fig, ax = plt.subplots(figsize=(15, 3))\n",
    "\n",
    "# Define the coordinates and dimensions of the rectangle\n",
    "x = 1  # x-coordinate of the lower-left corner\n",
    "y = 1  # y-coordinate of the lower-left corner\n",
    "\n",
    "phi = 1.61803398875  # Golden ratio\n",
    "# Calculate the width and height based on the golden ratio\n",
    "width = 2\n",
    "height = width / phi  # Height is calculated to maintain the golden ratio\n",
    "\n",
    "# Create rectangles\n",
    "rectangle1 = patches.Rectangle((x, y), width, height, linewidth=4, edgecolor='black', facecolor='none')\n",
    "ax.add_patch(rectangle1)\n",
    "\n",
    "rectangle2 = patches.Rectangle((x + 3, y), width, height, linewidth=4, edgecolor='black', facecolor='none')\n",
    "ax.add_patch(rectangle2)\n",
    "\n",
    "rectangle3 = patches.Rectangle((x + 6, y), width, height, linewidth=4, edgecolor='black', facecolor='none')\n",
    "ax.add_patch(rectangle3)\n",
    "\n",
    "rectangle4 = patches.Rectangle((x + 9, y), width, height, linewidth=4, edgecolor='black', facecolor='none')\n",
    "ax.add_patch(rectangle4)\n",
    "\n",
    "\n",
    "# Create connected lines between rectangles\n",
    "y_l = 1.6\n",
    "ax.plot([3, 4], [y_l, y_l], color='black', linewidth=4)\n",
    "ax.plot([6, 7], [y_l, y_l], color='black', linewidth=4)\n",
    "ax.plot([9, 10], [y_l, y_l], color='black', linewidth=4)\n",
    "\n",
    "# Define a function to add shapes to the plot\n",
    "line_length = 0.4\n",
    "arrow = patches.FancyArrow(2, 2, 0, -line_length, head_width=0.3, head_length=0.3, fc='black', ec='black', linewidth=5)\n",
    "ax.add_patch(arrow)\n",
    "\n",
    "rhombus1 = patches.Polygon(\n",
    "            [(5, 1.3), (4.5, 1.6), (5, 1.9), (5.5, 1.6)],\n",
    "            facecolor='black', edgecolor='black', linewidth=5)\n",
    "ax.add_patch(rhombus1)\n",
    "\n",
    "circle = patches.Circle((8, 1.6), radius=0.3, facecolor='black', edgecolor='black', linewidth=8)\n",
    "ax.add_patch(circle)\n",
    "\n",
    "rhombus2 = patches.Polygon(\n",
    "            [(11, 1.3), (10.5, 1.6), (11, 1.9), (11.5, 1.6)],\n",
    "            facecolor='black', edgecolor='black', linewidth=5)\n",
    "ax.add_patch(rhombus2)\n",
    "\n",
    "\n",
    "# Set the x and y limits\n",
    "ax.set_xlim(0, 20)\n",
    "ax.set_ylim(0, 4)\n",
    "\n",
    "plt.axis(\"off\")\n",
    "# Show the plot\n",
    "plt.show()\n"
   ]
  },
  {
   "cell_type": "markdown",
   "metadata": {},
   "source": [
    "# Pop the second element (3.14)\n",
    "initial_list.pop(1)"
   ]
  },
  {
   "cell_type": "code",
   "execution_count": 124,
   "metadata": {},
   "outputs": [
    {
     "data": {
      "image/png": "[encoded data removed]",
      "text/plain": [
       "<Figure size 1500x300 with 1 Axes>"
      ]
     },
     "metadata": {},
     "output_type": "display_data"
    }
   ],
   "source": [
    "import matplotlib.pyplot as plt\n",
    "import matplotlib.patches as patches\n",
    "\n",
    "# Create a figure and axis\n",
    "fig, ax = plt.subplots(figsize=(15, 3))\n",
    "\n",
    "# Define the coordinates and dimensions of the rectangle\n",
    "x = 1  # x-coordinate of the lower-left corner\n",
    "y = 1  # y-coordinate of the lower-left corner\n",
    "\n",
    "phi = 1.61803398875  # Golden ratio\n",
    "# Calculate the width and height based on the golden ratio\n",
    "width = 2\n",
    "height = width / phi  # Height is calculated to maintain the golden ratio\n",
    "\n",
    "# Create rectangles\n",
    "rectangle1 = patches.Rectangle((x, y), width, height, linewidth=4, edgecolor='black', facecolor='none')\n",
    "ax.add_patch(rectangle1)\n",
    "\n",
    "rectangle2 = patches.Rectangle((x + 3, y), width, height, linewidth=4, edgecolor='black', facecolor='none')\n",
    "ax.add_patch(rectangle2)\n",
    "\n",
    "rectangle3 = patches.Rectangle((x + 6, y), width, height, linewidth=4, edgecolor='black', facecolor='none')\n",
    "ax.add_patch(rectangle3)\n",
    "\n",
    "# Create connected lines between rectangles\n",
    "y_l = 1.6\n",
    "ax.plot([3, 4], [y_l, y_l], color='black', linewidth=4)\n",
    "ax.plot([6, 7], [y_l, y_l], color='black', linewidth=4)\n",
    "\n",
    "# Define a function to add shapes to the plot\n",
    "line_length = 0.4\n",
    "arrow = patches.FancyArrow(2, 2, 0, -line_length, head_width=0.3, head_length=0.3, fc='black', ec='black', linewidth=5)\n",
    "ax.add_patch(arrow)\n",
    "\n",
    "circle = patches.Circle((5, 1.6), radius=0.3, facecolor='black', edgecolor='black', linewidth=8)\n",
    "ax.add_patch(circle)\n",
    "\n",
    "rhombus2 = patches.Polygon(\n",
    "            [(8, 1.3), (7.5, 1.6), (8, 1.9), (8.5, 1.6)],\n",
    "            facecolor='black', edgecolor='black', linewidth=5)\n",
    "ax.add_patch(rhombus2)\n",
    "\n",
    "\n",
    "# Set the x and y limits\n",
    "ax.set_xlim(0, 20)\n",
    "ax.set_ylim(0, 4)\n",
    "\n",
    "plt.axis(\"off\")\n",
    "# Show the plot\n",
    "plt.show()\n"
   ]
  },
  {
   "cell_type": "markdown",
   "metadata": {},
   "source": [
    "# Example 7: Visualizing Mixed Data Types in a Tuple\n",
    "Objective: Understand how to represent mixed data types in a tuple.\n",
    "Problem: Create a tuple with mixed data types: (True, \"A\", 4, \"B\", 4.0).\n",
    "\n",
    "mixed_tuple = (True, \"A\", 4, \"B\", 4.0)\n",
    "Tuple(mixed_tuple)  # Wrap the tuple in a list to use your existing List class for visualization.\n",
    "\n"
   ]
  },
  {
   "cell_type": "code",
   "execution_count": 125,
   "metadata": {},
   "outputs": [
    {
     "data": {
      "image/png": "[encoded data removed]",
      "text/plain": [
       "<Figure size 1500x300 with 1 Axes>"
      ]
     },
     "metadata": {},
     "output_type": "display_data"
    }
   ],
   "source": [
    "import matplotlib.pyplot as plt\n",
    "import matplotlib.patches as patches\n",
    "\n",
    "# Create a figure and axis\n",
    "fig, ax = plt.subplots(figsize=(15, 3))\n",
    "\n",
    "# Create paral-s\n",
    "\n",
    "par1 = patches.Polygon(\n",
    "            [(1,1), (1.7,2.2), (3.7,2.2), (3,1)],\n",
    "            facecolor='None', edgecolor='black', linewidth=5)\n",
    "ax.add_patch(par1)\n",
    "\n",
    "\n",
    "par2 = patches.Polygon(\n",
    "            [(4, 1), (4.7, 2.2), (6.7, 2.2), (6, 1)],\n",
    "            facecolor='None', edgecolor='black', linewidth=5)\n",
    "ax.add_patch(par2)\n",
    "\n",
    "\n",
    "par3 = patches.Polygon(\n",
    "            [(7, 1), (7.7, 2.2), (9.7, 2.2), (9, 1)],\n",
    "            facecolor='None', edgecolor='black', linewidth=5)\n",
    "ax.add_patch(par3)\n",
    "\n",
    "\n",
    "par4 = patches.Polygon(\n",
    "            [(10, 1), (10.7, 2.2), (12.7, 2.2), (12, 1)],\n",
    "            facecolor='None', edgecolor='black', linewidth=5)\n",
    "ax.add_patch(par4)\n",
    "\n",
    "\n",
    "par5 = patches.Polygon(\n",
    "            [(13, 1), (13.7, 2.2), (15.7, 2.2), (15, 1)],\n",
    "            facecolor='None', edgecolor='black', linewidth=5)\n",
    "ax.add_patch(par5)\n",
    "\n",
    "\n",
    "# Create connected lines between paral-s\n",
    "y_l = 1.6\n",
    "ax.plot([3.4, 4.25], [y_l, y_l], color='black', linewidth=4)\n",
    "ax.plot([6.4, 7.25], [y_l, y_l], color='black', linewidth=4)\n",
    "ax.plot([9.4, 10.25], [y_l, y_l], color='black', linewidth=4)\n",
    "ax.plot([12.4, 13.25], [y_l, y_l], color='black', linewidth=4)\n",
    "\n",
    "# Define a function to add shapes to the plot\n",
    "line_length = 0.4\n",
    "arrow = patches.FancyArrow(2.2, 1.2, 0, line_length, head_width=0.3, head_length=0.3, fc='black', ec='black', linewidth=5)\n",
    "ax.add_patch(arrow)\n",
    "\n",
    "circle1 = patches.Circle((5.3, 1.6), radius=0.3, facecolor='black', edgecolor='black', linewidth=8)\n",
    "ax.add_patch(circle1)\n",
    "\n",
    "rhombus1 = patches.Polygon(\n",
    "            [(8.2, 1.3), (7.7, 1.6), (8.2, 1.9), (8.7, 1.6)],\n",
    "            facecolor='black', edgecolor='black', linewidth=5)\n",
    "ax.add_patch(rhombus1)\n",
    "\n",
    "circle2 = patches.Circle((11.3, 1.6), radius=0.3, facecolor='black', edgecolor='black', linewidth=8)\n",
    "ax.add_patch(circle2)\n",
    "\n",
    "rhombus2 = patches.Polygon(\n",
    "            [(14.2, 1.3), (13.7, 1.6), (14.2, 1.9), (14.7, 1.6)],\n",
    "            facecolor='black', edgecolor='black', linewidth=5)\n",
    "ax.add_patch(rhombus2)\n",
    "\n",
    "\n",
    "# Set the x and y limits\n",
    "ax.set_xlim(0, 20)\n",
    "ax.set_ylim(0, 4)\n",
    "\n",
    "plt.axis(\"off\")\n",
    "# Show the plot\n",
    "plt.show()\n",
    "\n"
   ]
  },
  {
   "cell_type": "markdown",
   "metadata": {},
   "source": [
    "# Example 8: Visualizing Mixed Data Types in a Set\n",
    "Objective: Understand how to represent mixed data types in a set.\n",
    "Problem: Create a set with mixed data types: {True, \"A\", 4, \"B\", False}.\n",
    "\n",
    "mixed_set = {True, \"A\", 4, \"B\", False}\n",
    "Set(mixed_set)\n",
    "\n"
   ]
  },
  {
   "cell_type": "code",
   "execution_count": 126,
   "metadata": {},
   "outputs": [
    {
     "data": {
      "image/png": "[encoded data removed]",
      "text/plain": [
       "<Figure size 1500x300 with 1 Axes>"
      ]
     },
     "metadata": {},
     "output_type": "display_data"
    }
   ],
   "source": [
    "import matplotlib.pyplot as plt\n",
    "import matplotlib.patches as patches\n",
    "\n",
    "# Create a figure and axis\n",
    "fig, ax = plt.subplots(figsize=(15, 3))\n",
    "\n",
    "\n",
    "# Create triangles\n",
    "\n",
    "triangle1 = patches.Polygon(\n",
    "        [(1.2, 1), (2.2, 2.4), (3.2, 1)],\n",
    "            facecolor='none', edgecolor='black', linewidth=5)\n",
    "ax.add_patch(triangle1)\n",
    "\n",
    "\n",
    "triangle2 = patches.Polygon(\n",
    "        [(3.8, 1), (4.8, 2.4), (5.8, 1)],\n",
    "            facecolor='none', edgecolor='black', linewidth=5)\n",
    "ax.add_patch(triangle2)\n",
    "\n",
    "triangle3 = patches.Polygon(\n",
    "        [(6.4, 1), (7.4, 2.4), (8.4, 1)],\n",
    "            facecolor='none', edgecolor='black', linewidth=5)\n",
    "ax.add_patch(triangle3)\n",
    "\n",
    "triangle4 = patches.Polygon(\n",
    "        [(9, 1), (10, 2.4), (11, 1)],\n",
    "            facecolor='none', edgecolor='black', linewidth=5)\n",
    "ax.add_patch(triangle4)\n",
    "\n",
    "triangle5 = patches.Polygon(\n",
    "        [(11.6, 1), (12.6, 2.4), (13.6, 1)],\n",
    "            facecolor='none', edgecolor='black', linewidth=5)\n",
    "ax.add_patch(triangle5)\n",
    "\n",
    "\n",
    "# Create connected lines between traiangles\n",
    "y_l = 1\n",
    "ax.plot([3.2, 3.8], [y_l, y_l], color='black', linewidth=5)\n",
    "ax.plot([5.8, 6.4], [y_l, y_l], color='black', linewidth=5)\n",
    "ax.plot([8.4, 9], [y_l, y_l], color='black', linewidth=5)\n",
    "ax.plot([11, 11.6], [y_l, y_l], color='black', linewidth=5)\n",
    "\n",
    "# Define a function to add shapes to the plot\n",
    "line_length = 0.4\n",
    "arrow1 = patches.FancyArrow(2.2, 1.2, 0, line_length, head_width=0.3, head_length=0.3, fc='black', ec='black', linewidth=5)\n",
    "ax.add_patch(arrow1)\n",
    "\n",
    "circle1 = patches.Circle((4.8, 1.6), radius=0.3, facecolor='black', edgecolor='black', linewidth=8)\n",
    "ax.add_patch(circle1)\n",
    "\n",
    "rhombus1 = patches.Polygon(\n",
    "            [(7.45, 1.2), (7.05, 1.5), (7.45, 1.8), (7.85, 1.5)],\n",
    "            facecolor='black', edgecolor='black', linewidth=5)\n",
    "ax.add_patch(rhombus1)\n",
    "\n",
    "\n",
    "circle2 = patches.Circle((10, 1.6), radius=0.3, facecolor='black', edgecolor='black', linewidth=8)\n",
    "ax.add_patch(circle2)\n",
    "\n",
    "arrow2 = patches.FancyArrow(12.6, 2, 0, -line_length, head_width=0.3, head_length=0.3, fc='black', ec='black', linewidth=5)\n",
    "ax.add_patch(arrow2)\n",
    "\n",
    "\n",
    "# Set the x and y limits\n",
    "ax.set_xlim(0, 20)\n",
    "ax.set_ylim(0, 4)\n",
    "\n",
    "plt.axis(\"off\")\n",
    "# Show the plot\n",
    "plt.show()\n",
    "\n"
   ]
  },
  {
   "cell_type": "markdown",
   "metadata": {},
   "source": [
    "# Using a Single-Character String in a Larger String\n",
    "Objective: Use a single-character string within a larger string.\n",
    "\n",
    "initial = \"Hello, \"\n",
    "name = \"Alice\"\n",
    "greeting = initial + name + \"!\"\n",
    "String(greeting)"
   ]
  },
  {
   "cell_type": "code",
   "execution_count": 127,
   "metadata": {},
   "outputs": [
    {
     "data": {
      "image/png": "[encoded data removed]",
      "text/plain": [
       "<Figure size 1500x300 with 1 Axes>"
      ]
     },
     "metadata": {},
     "output_type": "display_data"
    }
   ],
   "source": [
    "import matplotlib.pyplot as plt\n",
    "import matplotlib.patches as patches\n",
    "\n",
    "# Create a figure and axis\n",
    "fig, ax = plt.subplots(figsize=(15, 3))\n",
    "\n",
    "# Create circles\n",
    "\n",
    "circle1 = patches.Circle((1, 1), radius=0.6, facecolor='black', edgecolor='black', linewidth=8)\n",
    "ax.add_patch(circle1)\n",
    "\n",
    "circle2 = patches.Circle((2.9, 1), radius=0.6, facecolor='black', edgecolor='black', linewidth=8)\n",
    "ax.add_patch(circle2)\n",
    "\n",
    "# Create connected lines between circles\n",
    "y_l = 1\n",
    "ax.plot([1.5, 2.3], [y_l, y_l], color='black', linewidth=5)\n",
    "\n",
    "\n",
    "# Set the x and y limits\n",
    "ax.set_xlim(0, 20)\n",
    "ax.set_ylim(0, 4)\n",
    "\n",
    "plt.axis(\"off\")\n",
    "# Show the plot\n",
    "plt.show()\n",
    "\n"
   ]
  },
  {
   "cell_type": "markdown",
   "metadata": {},
   "source": [
    "# Char Type Example:\n",
    "Objective: Create a variable with the char type and display it.\t\n",
    "\n",
    "char = 'a'\n",
    "String(char)"
   ]
  },
  {
   "cell_type": "code",
   "execution_count": 128,
   "metadata": {},
   "outputs": [
    {
     "data": {
      "image/png": "[encoded data removed]",
      "text/plain": [
       "<Figure size 1500x300 with 1 Axes>"
      ]
     },
     "metadata": {},
     "output_type": "display_data"
    }
   ],
   "source": [
    "import matplotlib.pyplot as plt\n",
    "import matplotlib.patches as patches\n",
    "\n",
    "# Create a figure and axis\n",
    "fig, ax = plt.subplots(figsize=(15, 3))\n",
    "\n",
    "# Create circles\n",
    "\n",
    "circle1 = patches.Circle((1, 1), radius=0.8, facecolor='black', edgecolor='black', linewidth=8)\n",
    "ax.add_patch(circle1)\n",
    "\n",
    "\n",
    "# Set the x and y limits\n",
    "ax.set_xlim(0, 20)\n",
    "ax.set_ylim(0, 4)\n",
    "\n",
    "plt.axis(\"off\")\n",
    "# Show the plot\n",
    "plt.show()\n",
    "\n"
   ]
  },
  {
   "cell_type": "markdown",
   "metadata": {},
   "source": [
    "# Numeric Values Example:\n",
    "Objective: Create numeric variables (integers,complex and floats) and display them.\n",
    "\n",
    "integer_value = 42\n",
    "float_value = 3.14\n",
    "complex_value = 5j+2\n",
    "\n",
    "Numeric(integer_value)\n",
    "Numeric(float_value)\n",
    "Numeric(complex_value)\n",
    "\n"
   ]
  },
  {
   "cell_type": "code",
   "execution_count": 129,
   "metadata": {},
   "outputs": [
    {
     "data": {
      "image/png": "[encoded data removed]",
      "text/plain": [
       "<Figure size 1500x300 with 1 Axes>"
      ]
     },
     "metadata": {},
     "output_type": "display_data"
    }
   ],
   "source": [
    "import matplotlib.pyplot as plt\n",
    "import matplotlib.patches as patches\n",
    "\n",
    "# Create a figure and axis\n",
    "fig, ax = plt.subplots(figsize=(15, 3))\n",
    "\n",
    "\n",
    "# Create rectangles\n",
    "\n",
    "romb1 = patches.Polygon(\n",
    "        [(1.2, 1), (2.2, 1.9), (3.2, 1),(2.2,0.1)],\n",
    "            facecolor='black', edgecolor='black', linewidth=5)\n",
    "ax.add_patch(romb1)\n",
    "\n",
    "romb2 = patches.Polygon(\n",
    "    [(4, 1), (5, 1.9), (6, 1),(5,0.1)],\n",
    "            facecolor='black', edgecolor='black', linewidth=5)\n",
    "ax.add_patch(romb2)\n",
    "\n",
    "romb3 = patches.Polygon(\n",
    "        [(6.8, 1), (7.8, 1.9), (8.8, 1),(7.8,0.1)],\n",
    "            facecolor='black', edgecolor='black', linewidth=5)\n",
    "ax.add_patch(romb3)\n",
    "\n",
    "\n",
    "\n",
    "plt.axis(\"off\")\n",
    "# Show the plot\n",
    "plt.show()\n",
    "\n",
    "\n"
   ]
  },
  {
   "cell_type": "markdown",
   "metadata": {},
   "source": [
    "# Boolean Values Example:\n",
    "Objective: Create boolean variables (True and False) and display them.\n",
    "true_value = True\n",
    "false_value = False\n",
    "\n",
    "Boolean(true_value)\n",
    "Boolean(false_value)\n"
   ]
  },
  {
   "cell_type": "code",
   "execution_count": 130,
   "metadata": {},
   "outputs": [
    {
     "data": {
      "image/png": "[encoded data removed]",
      "text/plain": [
       "<Figure size 1500x300 with 1 Axes>"
      ]
     },
     "metadata": {},
     "output_type": "display_data"
    }
   ],
   "source": [
    "import matplotlib.pyplot as plt\n",
    "import matplotlib.patches as patches\n",
    "\n",
    "# Create a figure and axis\n",
    "fig, ax = plt.subplots(figsize=(15, 3))\n",
    "\n",
    "line_length=1.5\n",
    "#1        \n",
    "arrow1 = patches.FancyArrow(2.05, 0.3, 0, line_length, head_width=0.5, head_length=0.5, fc='black', ec='black', linewidth=8)\n",
    "ax.add_patch(arrow1)\n",
    "\n",
    "#2\n",
    "arrow2 = patches.FancyArrow(5, 2.3, 0, -line_length, head_width=0.5, head_length=0.5, fc='black', ec='black', linewidth=8)\n",
    "ax.add_patch(arrow2)\n",
    "\n",
    "\n",
    "# Set the x and y limits\n",
    "ax.set_xlim(0, 20)\n",
    "ax.set_ylim(0, 4)\n",
    "\n",
    "\n",
    "plt.axis(\"off\")\n",
    "plt.show()"
   ]
  },
  {
   "cell_type": "markdown",
   "metadata": {},
   "source": [
    "# None Type Example:\n",
    "Objective: Create a variable with the None type and display it.\t\n",
    "\n",
    "none_value = None\n",
    "\n",
    "None(none_value)"
   ]
  },
  {
   "cell_type": "code",
   "execution_count": 131,
   "metadata": {},
   "outputs": [
    {
     "data": {
      "image/png": "[encoded data removed]",
      "text/plain": [
       "<Figure size 1500x300 with 1 Axes>"
      ]
     },
     "metadata": {},
     "output_type": "display_data"
    }
   ],
   "source": [
    "import matplotlib.pyplot as plt\n",
    "from matplotlib.patches import Circle\n",
    "# Create a figure and axis\n",
    "fig, ax = plt.subplots(figsize=(15, 3))\n",
    " \n",
    "\n",
    "circle = Circle((2.5,1.5), radius=1.3, facecolor='None', linewidth=7, edgecolor=\"black\")\n",
    "ax.add_patch(circle)\n",
    "\n",
    "ax.plot([0.9, 4.1], [0.3, 2.7], color='black', linewidth=7) \n",
    "\n",
    "# Set the x and y limits\n",
    "ax.set_xlim(0, 20)\n",
    "ax.set_ylim(0, 4)\n",
    "\n",
    "\n",
    "plt.axis(\"off\")\n",
    "plt.show()"
   ]
  },
  {
   "cell_type": "markdown",
   "metadata": {},
   "source": [
    "# Dictionary Example¶\n",
    "Objective: Create a dictionary and display them. \n",
    "dictionary={'A':{\"ABS\",\"DFS\"},'B':\"ASDFGHJ\",4:[1,2,3]}"
   ]
  },
  {
   "cell_type": "code",
   "execution_count": 5,
   "metadata": {},
   "outputs": [
    {
     "data": {
      "image/png": "[encoded data removed]",
      "text/plain": [
       "<Figure size 1080x216 with 1 Axes>"
      ]
     },
     "metadata": {
      "needs_background": "light"
     },
     "output_type": "display_data"
    }
   ],
   "source": [
    "import matplotlib.pyplot as plt\n",
    "from matplotlib.patches import Circle\n",
    "from matplotlib.lines import Line2D\n",
    "import matplotlib.patches as patches\n",
    "\n",
    "# Create a figure and axis\n",
    "fig, ax = plt.subplots(figsize=(15, 3))\n",
    "\n",
    "x = 1.5\n",
    "y = 2\n",
    "\n",
    "# Shapes of keys##############\n",
    "\n",
    "#1-element\n",
    "circle = Circle((x, y), 0.3, linewidth=1, edgecolor='black', facecolor='black')\n",
    "ax.add_patch(circle)\n",
    "\n",
    "\n",
    "#2-element\n",
    "rhombus1 = patches.Polygon(\n",
    "            [(1.5, 0.5), (1.2, 0.8), (1.5, 1.1), (1.8, 0.8)],\n",
    "            facecolor='black', edgecolor='black', linewidth=5)\n",
    "ax.add_patch(rhombus1)\n",
    "\n",
    "#3-element\n",
    "triangle1 = patches.Polygon(\n",
    "            [(1.2, 2.9), (1.5, 3.4), (1.8, 2.9)],\n",
    "            facecolor='None', edgecolor='black', linewidth=5)\n",
    "ax.add_patch(triangle1)\n",
    "\n",
    "####################################################\n",
    "\n",
    "#Shapes of values###############\n",
    "#1-element\n",
    "circle2 = Circle((x+2, y), 0.3, linewidth=1, edgecolor='black', facecolor='black')\n",
    "ax.add_patch(circle2)\n",
    "circle3 = Circle((x+2.8, y), 0.3, linewidth=1, edgecolor='black', facecolor='black')\n",
    "ax.add_patch(circle3)\n",
    "ax.plot([3.5, 4], [y, y], color='black', linewidth=5)\n",
    "######\n",
    "\n",
    "#2-element\n",
    "width=0.8\n",
    "height=0.7\n",
    "\n",
    "rectangle1 = patches.Rectangle((3.2, 0.5), width, height, linewidth=4, edgecolor='black', facecolor='none')\n",
    "ax.add_patch(rectangle1)\n",
    "\n",
    "#3-element\n",
    "par1 = patches.Polygon(\n",
    "            [(3.2, 2.9), (3.4, 3.4), (4.2, 3.4), (4, 2.9)],\n",
    "            facecolor='None', edgecolor='black', linewidth=5)\n",
    "ax.add_patch(par1)\n",
    "######\n",
    "\n",
    "#############################\n",
    "\n",
    "\n",
    "# Line of keys and teeth###############\n",
    "#1-element\n",
    "line1 = Line2D([x + 0.2, x + 1.5], [y,y], color='black', linewidth=5)\n",
    "ax.add_line(line1)\n",
    "t1 = Line2D([x + 1.5, x + 1.5], [y - 0.25, y], color='black', linewidth=5)\n",
    "t2 = Line2D([x + 0.4, x + 0.4], [y - 0.25, y], color='black', linewidth=5)\n",
    "t3 = Line2D([x + 0.8, x + 0.8], [y - 0.25, y], color='black', linewidth=5)\n",
    "ax.add_line(t1)\n",
    "ax.add_line(t2)\n",
    "ax.add_line(t3)\n",
    "####\n",
    "\n",
    "#2-element\n",
    "y2=0.8\n",
    "line2 = Line2D([x + 0.2, x + 1.5], [y2, y2], color='black', linewidth=5)\n",
    "ax.add_line(line2)\n",
    "t1_1 = Line2D([x + 1.5, x + 1.5], [y2 - 0.25, y2], color='black', linewidth=5)\n",
    "t2_1 = Line2D([x + 0.4, x + 0.4], [y2 - 0.25, y2], color='black', linewidth=5)\n",
    "t3_1 = Line2D([x + 0.8, x + 0.8], [y2 - 0.25, y2], color='black', linewidth=5)\n",
    "ax.add_line(t1_1)\n",
    "ax.add_line(t2_1)\n",
    "ax.add_line(t3_1)\n",
    "###\n",
    "\n",
    "#3-element\n",
    "y3=3.2\n",
    "line2 = Line2D([x + 0.2, x + 1.5], [y3, y3], color='black', linewidth=5)\n",
    "ax.add_line(line2)\n",
    "t1_1 = Line2D([x + 1.5, x + 1.5], [y3 - 0.25, y3], color='black', linewidth=5)\n",
    "t2_1 = Line2D([x + 0.4, x + 0.4], [y3 - 0.25, y3], color='black', linewidth=5)\n",
    "t3_1 = Line2D([x + 0.8, x + 0.8], [y3 - 0.25, y3], color='black', linewidth=5)\n",
    "ax.add_line(t1_1)\n",
    "ax.add_line(t2_1)\n",
    "ax.add_line(t3_1)\n",
    "\n",
    "#############################################\n",
    "\n",
    "# Set the x and y limits\n",
    "ax.set_xlim(0, 20)\n",
    "ax.set_ylim(0, 7)\n",
    "\n",
    "plt.axis(\"off\")\n",
    "plt.show()\n",
    "dictionary={'A':{\"ABS\",\"DFS\"},'B':\"ASDFGHJ\",4:[1,2,3]}"
   ]
  },
  {
   "cell_type": "code",
   "execution_count": 7,
   "metadata": {},
   "outputs": [
    {
     "data": {
      "image/png": "[encoded data removed]",
      "text/plain": [
       "<Figure size 1080x216 with 1 Axes>"
      ]
     },
     "metadata": {
      "needs_background": "light"
     },
     "output_type": "display_data"
    }
   ],
   "source": [
    "import matplotlib.pyplot as plt\n",
    "import matplotlib.patches as patches\n",
    "\n",
    "# Create a figure and axis\n",
    "fig, ax = plt.subplots(figsize=(15, 3))\n",
    "\n",
    "\n",
    "# Create triangles\n",
    "\n",
    "triangle1 = patches.Polygon(\n",
    "        [(1.2, 1), (2.2, 2.4), (3.2, 1)],\n",
    "            facecolor='none', edgecolor='black', linewidth=5)\n",
    "ax.add_patch(triangle1)\n",
    "\n",
    "\n",
    "# Calculate and plot the centers of the triangles\n",
    "center1 = [(1.2 + 2.2 + 3.2) / 3, (1 + 2.4 + 1) / 3]\n",
    "\n",
    "\n",
    "# Set the x and y limits\n",
    "ax.set_xlim(0, 20)\n",
    "ax.set_ylim(0, 4)\n",
    "\n",
    "plt.axis(\"off\")\n",
    "# Show the plot\n",
    "plt.show()\n"
   ]
  },
  {
   "cell_type": "code",
   "execution_count": null,
   "metadata": {},
   "outputs": [],
   "source": []
  }
 ],
 "metadata": {
  "kernelspec": {
   "display_name": "Python 3",
   "language": "python",
   "name": "python3"
  },
  "language_info": {
   "codemirror_mode": {
    "name": "ipython",
    "version": 3
   },
   "file_extension": ".py",
   "mimetype": "text/x-python",
   "name": "python",
   "nbconvert_exporter": "python",
   "pygments_lexer": "ipython3",
   "version": "3.8.3"
  }
 },
 "nbformat": 4,
 "nbformat_minor": 5
}
