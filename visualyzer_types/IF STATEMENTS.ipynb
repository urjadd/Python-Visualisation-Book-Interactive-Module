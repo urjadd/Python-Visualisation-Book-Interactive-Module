{
 "cells": [
  {
   "cell_type": "markdown",
   "metadata": {},
   "source": [
    "# IF STATEMENTS"
   ]
  },
  {
   "cell_type": "markdown",
   "metadata": {},
   "source": [
    "## \"?\" is used to symbolize an if statement"
   ]
  },
  {
   "cell_type": "markdown",
   "metadata": {},
   "source": [
    "### Example 1"
   ]
  },
  {
   "cell_type": "markdown",
   "metadata": {},
   "source": [
    "Check if the strings are equal"
   ]
  },
  {
   "cell_type": "code",
   "execution_count": 1,
   "metadata": {},
   "outputs": [
    {
     "data": {
      "image/png": "[encoded data removed]",
      "text/plain": [
       "<Figure size 1080x216 with 1 Axes>"
      ]
     },
     "metadata": {
      "needs_background": "light"
     },
     "output_type": "display_data"
    }
   ],
   "source": [
    "import matplotlib.pyplot as plt\n",
    "import matplotlib.patches as patches\n",
    "\n",
    "# Create a figure and axis\n",
    "fig, ax = plt.subplots(figsize=(15, 3))\n",
    "\n",
    "# string 1\n",
    "circle1 = patches.Circle((1, 1), radius=0.6, facecolor='black', edgecolor='black', linewidth=8)\n",
    "ax.add_patch(circle1)\n",
    "\n",
    "circle2 = patches.Circle((2.9, 1), radius=0.6, facecolor='black', edgecolor='black', linewidth=8)\n",
    "ax.add_patch(circle2)\n",
    "\n",
    "# Create connected lines between circles\n",
    "y_l = 1\n",
    "ax.plot([1.5, 2.3], [y_l, y_l], color='black', linewidth=5)\n",
    "\n",
    "# Set the x and y limits\n",
    "ax.set_xlim(0, 20)\n",
    "ax.set_ylim(0, 4)\n",
    "\n",
    "# Add text annotation for the \"==\"\n",
    "ax.text(4, 1 - 0.15, \"==\", fontsize=20, va='center')\n",
    "\n",
    "# string 2\n",
    "circle3 = patches.Circle((5.8, 1), radius=0.6, facecolor='black', edgecolor='black', linewidth=8)\n",
    "ax.add_patch(circle3)\n",
    "\n",
    "circle4 = patches.Circle((7.7, 1), radius=0.6, facecolor='black', edgecolor='black', linewidth=8)\n",
    "ax.add_patch(circle4)\n",
    "\n",
    "# Create connected lines between circles\n",
    "y_l = 1\n",
    "ax.plot([6.5, 7.5], [y_l, y_l], color='black', linewidth=5)\n",
    "\n",
    "# Add text annotation for the \"?\"\n",
    "ax.text(4.2, 1 + 0.7, \"?\", fontsize=20, va='center')\n",
    "\n",
    "# Show the plot\n",
    "plt.axis(\"off\")\n",
    "plt.show()"
   ]
  },
  {
   "cell_type": "markdown",
   "metadata": {},
   "source": [
    "### Example 2"
   ]
  },
  {
   "cell_type": "markdown",
   "metadata": {},
   "source": [
    "Check if two strings are less than or equal to each other"
   ]
  },
  {
   "cell_type": "code",
   "execution_count": 2,
   "metadata": {},
   "outputs": [
    {
     "data": {
      "image/png": "[encoded data removed]",
      "text/plain": [
       "<Figure size 1080x216 with 1 Axes>"
      ]
     },
     "metadata": {
      "needs_background": "light"
     },
     "output_type": "display_data"
    }
   ],
   "source": [
    "import matplotlib.pyplot as plt\n",
    "import matplotlib.patches as patches\n",
    "\n",
    "# Create a figure and axis\n",
    "fig, ax = plt.subplots(figsize=(15, 3))\n",
    "\n",
    "# string 1\n",
    "circle1 = patches.Circle((1, 1), radius=0.6, facecolor='black', edgecolor='black', linewidth=8)\n",
    "ax.add_patch(circle1)\n",
    "\n",
    "circle2 = patches.Circle((2.9, 1), radius=0.6, facecolor='black', edgecolor='black', linewidth=8)\n",
    "ax.add_patch(circle2)\n",
    "\n",
    "# Create connected lines between circles\n",
    "y_l = 1\n",
    "ax.plot([1.5, 2.3], [y_l, y_l], color='black', linewidth=5)\n",
    "\n",
    "# Set the x and y limits\n",
    "ax.set_xlim(0, 20)\n",
    "ax.set_ylim(0, 4)\n",
    "\n",
    "# Add text annotation for the \"==\"\n",
    "ax.text(4, 1 - 0.15, \"<=\", fontsize=20, va='center')\n",
    "\n",
    "# string 2\n",
    "circle3 = patches.Circle((5.8, 1), radius=0.6, facecolor='black', edgecolor='black', linewidth=8)\n",
    "ax.add_patch(circle3)\n",
    "\n",
    "circle4 = patches.Circle((7.7, 1), radius=0.6, facecolor='black', edgecolor='black', linewidth=8)\n",
    "ax.add_patch(circle4)\n",
    "\n",
    "# Create connected lines between circles\n",
    "y_l = 1\n",
    "ax.plot([6.5, 7.5], [y_l, y_l], color='black', linewidth=5)\n",
    "\n",
    "# Add text annotation for the \"?\"\n",
    "ax.text(4.2, 1 + 0.7, \"?\", fontsize=20, va='center')\n",
    "\n",
    "# Show the plot\n",
    "plt.axis(\"off\")\n",
    "plt.show()"
   ]
  },
  {
   "cell_type": "markdown",
   "metadata": {},
   "source": [
    "### Example 3"
   ]
  },
  {
   "cell_type": "markdown",
   "metadata": {},
   "source": [
    "Check if two strings are less than or equal to each other, and if they are equal perform task 1, else perform task 2"
   ]
  },
  {
   "cell_type": "code",
   "execution_count": 3,
   "metadata": {},
   "outputs": [
    {
     "data": {
      "image/png": "[encoded data removed]",
      "text/plain": [
       "<Figure size 1080x216 with 1 Axes>"
      ]
     },
     "metadata": {
      "needs_background": "light"
     },
     "output_type": "display_data"
    }
   ],
   "source": [
    "import matplotlib.pyplot as plt\n",
    "import matplotlib.patches as patches\n",
    "\n",
    "# Create a figure and axis\n",
    "fig, ax = plt.subplots(figsize=(15, 3))\n",
    "\n",
    "# string 1\n",
    "circle1 = patches.Circle((1, 1), radius=0.6, facecolor='black', edgecolor='black', linewidth=8)\n",
    "ax.add_patch(circle1)\n",
    "\n",
    "circle2 = patches.Circle((2.9, 1), radius=0.6, facecolor='black', edgecolor='black', linewidth=8)\n",
    "ax.add_patch(circle2)\n",
    "\n",
    "# Create connected lines between circles\n",
    "y_l = 1\n",
    "ax.plot([1.5, 2.3], [y_l, y_l], color='black', linewidth=5)\n",
    "\n",
    "# Set the x and y limits\n",
    "ax.set_xlim(0, 20)\n",
    "ax.set_ylim(0, 4)\n",
    "\n",
    "# Add text annotation for the \"<=\"\n",
    "ax.text(4, 1 - 0.15, \"<=\", fontsize=20, va='center')\n",
    "\n",
    "# string 2\n",
    "circle3 = patches.Circle((5.8, 1), radius=0.6, facecolor='black', edgecolor='black', linewidth=8)\n",
    "ax.add_patch(circle3)\n",
    "\n",
    "circle4 = patches.Circle((7.7, 1), radius=0.6, facecolor='black', edgecolor='black', linewidth=8)\n",
    "ax.add_patch(circle4)\n",
    "\n",
    "# Create connected lines between circles\n",
    "y_l = 1\n",
    "ax.plot([6.5, 7.5], [y_l, y_l], color='black', linewidth=5)\n",
    "\n",
    "# Add text annotation for the \"?\"\n",
    "ax.text(4.2, 1 + 0.7, \"?\", fontsize=20, va='center')\n",
    "\n",
    "\n",
    "ax.annotate('', xy=(8, 0.5), xytext=(10, 0.5),\n",
    "            arrowprops=dict(facecolor='black', arrowstyle='<-',linewidth=3))\n",
    "\n",
    "ax.annotate('', xy=(8, 0.5), xytext=(10, 0),\n",
    "            arrowprops=dict(facecolor='black', arrowstyle='<-',linewidth=3))\n",
    "\n",
    "# Show the plot\n",
    "plt.axis(\"off\")\n",
    "plt.show()"
   ]
  },
  {
   "cell_type": "markdown",
   "metadata": {},
   "source": [
    "### Example 4"
   ]
  },
  {
   "cell_type": "markdown",
   "metadata": {},
   "source": [
    "To check if x belongs to the set"
   ]
  },
  {
   "cell_type": "code",
   "execution_count": 4,
   "metadata": {},
   "outputs": [
    {
     "data": {
      "image/png": "[encoded data removed]",
      "text/plain": [
       "<Figure size 1080x216 with 1 Axes>"
      ]
     },
     "metadata": {
      "needs_background": "light"
     },
     "output_type": "display_data"
    }
   ],
   "source": [
    "import matplotlib.pyplot as plt\n",
    "import matplotlib.patches as patches\n",
    "\n",
    "# Create a figure and axis\n",
    "fig, ax = plt.subplots(figsize=(15, 3))\n",
    "\n",
    "# Create triangles\n",
    "triangle1 = patches.Polygon(\n",
    "    [(1.2, 1), (2.2, 2.4), (3.2, 1)],\n",
    "    facecolor='none', edgecolor='black', linewidth=5)\n",
    "ax.add_patch(triangle1)\n",
    "\n",
    "# Add the letter 'x' inside the triangle\n",
    "ax.text(2.2, 1.5, 'x', fontsize=20, ha='center', va='center')\n",
    "\n",
    "# Add a question mark above the triangle\n",
    "ax.text(2.2, 2.8, '?', fontsize=20, ha='center', va='center')\n",
    "\n",
    "# Set the x and y limits\n",
    "ax.set_xlim(0, 20)\n",
    "ax.set_ylim(0, 4)\n",
    "\n",
    "plt.axis(\"off\")\n",
    "\n",
    "# Show the plot\n",
    "plt.show()"
   ]
  },
  {
   "cell_type": "markdown",
   "metadata": {},
   "source": [
    "### Example 5"
   ]
  },
  {
   "cell_type": "markdown",
   "metadata": {},
   "source": [
    "Check if x > 5"
   ]
  },
  {
   "cell_type": "code",
   "execution_count": 5,
   "metadata": {},
   "outputs": [
    {
     "data": {
      "image/png": "[encoded data removed]",
      "text/plain": [
       "<Figure size 1080x216 with 1 Axes>"
      ]
     },
     "metadata": {
      "needs_background": "light"
     },
     "output_type": "display_data"
    }
   ],
   "source": [
    "import matplotlib.pyplot as plt\n",
    "import matplotlib.patches as patches\n",
    "\n",
    "# Create a figure and axis\n",
    "fig, ax = plt.subplots(figsize=(15, 3))\n",
    "\n",
    "# Add text annotation for 'x >' with adjusted properties\n",
    "ax.text(0.5, 1, 'x    >', fontsize=30, color='black', va='center', ha='right')\n",
    "\n",
    "# Add '?' sign above '>'\n",
    "ax.text(0.35, 2, '?', fontsize=30, color='black', va='center', ha='center')\n",
    "\n",
    "# Create rectangles after the text\n",
    "romb1 = patches.Polygon(\n",
    "    [(1.5, 1), (2.5, 1.9), (3.5, 1), (2.5, 0.1)],  # Adjusted coordinates to position after the text\n",
    "    facecolor='black', edgecolor='black', linewidth=5)\n",
    "ax.add_patch(romb1)\n",
    "\n",
    "# Set the x and y limits\n",
    "ax.set_xlim(0, 20)\n",
    "ax.set_ylim(0, 4)\n",
    "\n",
    "plt.axis(\"off\")\n",
    "# Show the plot\n",
    "plt.show()"
   ]
  },
  {
   "cell_type": "code",
   "execution_count": null,
   "metadata": {},
   "outputs": [],
   "source": []
  }
 ],
 "metadata": {
  "kernelspec": {
   "display_name": "Python 3",
   "language": "python",
   "name": "python3"
  },
  "language_info": {
   "codemirror_mode": {
    "name": "ipython",
    "version": 3
   },
   "file_extension": ".py",
   "mimetype": "text/x-python",
   "name": "python",
   "nbconvert_exporter": "python",
   "pygments_lexer": "ipython3",
   "version": "3.8.3"
  }
 },
 "nbformat": 4,
 "nbformat_minor": 4
}
